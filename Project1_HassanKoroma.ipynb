{
  "nbformat": 4,
  "nbformat_minor": 0,
  "metadata": {
    "colab": {
      "provenance": [],
      "collapsed_sections": []
    },
    "kernelspec": {
      "name": "python3",
      "display_name": "Python 3"
    },
    "language_info": {
      "name": "python"
    }
  },
  "cells": [
    {
      "cell_type": "markdown",
      "source": [
        "# <font face='arial' color='navy' size=12pt>Project 1 - Hassan Koroma (DATA 310 - Applied Machine Learning)</font>"
      ],
      "metadata": {
        "id": "vxPxsL_7YxwI"
      }
    },
    {
      "cell_type": "code",
      "execution_count": 1,
      "metadata": {
        "id": "d2YxRtpTuTFi"
      },
      "outputs": [],
      "source": [
        "import numpy as np\n",
        "import random"
      ]
    },
    {
      "cell_type": "markdown",
      "source": [
        "###<font color='blue' size=6pt>Question 1: Dice Problem</font>\n",
        "- If you are rolling 5 dice, determine the probability that the sum of the faces showing up is equal to 21"
      ],
      "metadata": {
        "id": "4QffHwtB3vPp"
      }
    },
    {
      "cell_type": "code",
      "source": [
        "def roll_5dice(n):\n",
        "  '''Running monte carlo simulations to determine\n",
        "      the probability that the sum of rolling 5 \n",
        "      dice equal 21'''\n",
        "  \n",
        "  target = 21\n",
        "  equals_21 = 0\n",
        "  not_21 = 0\n",
        "  \n",
        "  for i in range(n):\n",
        "    d1 = random.randint(1, 6)\n",
        "    d2 = random.randint(1, 6)\n",
        "    d3 = random.randint(1, 6)\n",
        "    d4 = random.randint(1, 6)\n",
        "    d5 = random.randint(1, 6)\n",
        "    \n",
        "    total = d1 + d2 + d3 + d4 + d5\n",
        "    \n",
        "    if total == target:\n",
        "      equals_21 += 1\n",
        "    \n",
        "    else:\n",
        "      not_21 += 1\n",
        "  \n",
        "  print('# of 21 totals:',equals_21, '\\t', '# of otherwise:',not_21)\n",
        "  print(f'{chr(9733)} Answer: There\\'s a {equals_21/n} chance that the sum of 5 dice will equal 21!')"
      ],
      "metadata": {
        "id": "wVHb5bcb31aD"
      },
      "execution_count": 36,
      "outputs": []
    },
    {
      "cell_type": "code",
      "source": [
        "dice_answer = roll_5dice(1000000)\n",
        "dice_answer # probabilty seems to be converging to 0.07 or 7%"
      ],
      "metadata": {
        "id": "Mvj7uteH32Vy",
        "colab": {
          "base_uri": "https://localhost:8080/"
        },
        "outputId": "4df62f3b-4d24-4962-fa77-f0f577b891d9"
      },
      "execution_count": 37,
      "outputs": [
        {
          "output_type": "stream",
          "name": "stdout",
          "text": [
            "# of 21 totals: 69297 \t # of otherwise: 930703\n",
            "★ Answer: There's a 0.069297 chance that the sum of 5 dice will equal 21!\n"
          ]
        }
      ]
    },
    {
      "cell_type": "markdown",
      "source": [
        "### <font color='blue' size=6pt>Question 2: Raining Problem</font>\n",
        "- You're about to get on a plane to Boston. You want to know whether it is raining. You call 4 random friends of yours who live there and ask each one independently, if it's raining. The first two of your friends have a 1/3 chance of telling you the truth and, the other two have 1/4 chance of messing with you by lying. All 4 friends tell you that \"No\" it isn't raining. What is the probability that it's raining in Boston?"
      ],
      "metadata": {
        "id": "OrCz1HOkuj5U"
      }
    },
    {
      "cell_type": "code",
      "source": [
        "def raining(n):\n",
        "\n",
        "  # counter variables\n",
        "  times_rained = 0\n",
        "  times_dry = 0\n",
        "\n",
        "  for i in range(n):\n",
        "\n",
        "    # lied if greater than 1/3 (chance of truth)\n",
        "    f1 = (np.random.random() > 1/3) \n",
        "    f2 = (np.random.random() > 1/3)\n",
        "    \n",
        "    # lied if greater than 3/4 (chance of truth)\n",
        "    f3 = (np.random.random() > 3/4) \n",
        "    f4 = (np.random.random() > 3/4)\n",
        "\n",
        "    if f1 | f2 | f3 | f4: # if at least one lied, then it rained\n",
        "      times_rained += 1\n",
        "\n",
        "    else: # otherwise they told the truth, i.e., it's not raining\n",
        "      times_dry += 1\n",
        "    \n",
        "  \n",
        "  print(f'Amount of times it rained: {times_rained}')\n",
        "  print(f'Amount of times it didn\\'t rain: {times_dry}')\n",
        "  print(f'{chr(9733)} Answer: There is approximately {times_rained/n} chance of rain in Boston! ')"
      ],
      "metadata": {
        "id": "4coVeXSKuyno"
      },
      "execution_count": 38,
      "outputs": []
    },
    {
      "cell_type": "code",
      "source": [
        "raining(1000000) # converges to 93.75% chance of rain in Boston or 1-(1/16)"
      ],
      "metadata": {
        "colab": {
          "base_uri": "https://localhost:8080/"
        },
        "id": "3kVl8GC_L03S",
        "outputId": "ddc7267e-ee3c-4853-b8c6-35f3788430c7"
      },
      "execution_count": 40,
      "outputs": [
        {
          "output_type": "stream",
          "name": "stdout",
          "text": [
            "Amount of times it rained: 937393\n",
            "Amount of times it didn't rain: 62607\n",
            "★ Answer: There is approximately 0.937393 chance of rain in Boston! \n"
          ]
        }
      ]
    },
    {
      "cell_type": "markdown",
      "source": [
        "### <font color='blue' size=6pt>Question 3: Optimal Route Problem</font>\n",
        "- Mad Max wants to travel from New York to Dallas by the shortest possible route. He may travel over the routes shown in the table below. Unfortunately, the Wicked Witch can block one road leading out of Atlanta and one road leading out of Nashville. Mad Max will not know which roads have been blocked until he arrives at Atlanta or Nashville. Should Mad Max start toward Atlanta or Nashville?\n",
        "#### Route\t       Length of Route (miles)\n",
        "-New York - Atlanta\t      866\n",
        "-New York - Nashville\t    900\n",
        "-Nashville - St. Louis\t  309\n",
        "-Nashville - New Orleans\t532\n",
        "-Atlanta - St. Louis\t    555\n",
        "-Atlanta - New Orleans\t  470\n",
        "-St. Louis - Dallas\t      662\n",
        "-New Orleans - Dallas\t    505"
      ],
      "metadata": {
        "id": "4DFM-x2537vt"
      }
    },
    {
      "cell_type": "code",
      "source": [
        "def Atlanta_Route(n):\n",
        "  NY_to_A = 866\n",
        "  \n",
        "  A_to_StL = 555\n",
        "  StL_to_Dallas = 662\n",
        "\n",
        "  A_to_NO = 470\n",
        "  NO_to_Dallas = 505\n",
        "\n",
        "  total_distance = 0 # starting distance\n",
        "  # sim_distances = [] # total distance for each simulation in a list\n",
        "  \n",
        "  for i in range(n):\n",
        "    \n",
        "    road_blocked = random.randint(1,2) # determines which route out of Atlanta will be blocked\n",
        "    \n",
        "    # if == 1, the route from Atlanta to St Louis is blocked, so use route to New Orleans\n",
        "    if road_blocked == 1: \n",
        "      total_distance += NY_to_A + A_to_NO + NO_to_Dallas\n",
        "      \n",
        "    # otherwise route to New Orleans is blocked, so use route to St Louis\n",
        "    else:\n",
        "      total_distance += NY_to_A + A_to_StL + StL_to_Dallas\n",
        "\n",
        "  print(f'Expected distance through Atlanta: {total_distance/n} miles')\n"
      ],
      "metadata": {
        "id": "45qF1ZnsZ6QY"
      },
      "execution_count": 29,
      "outputs": []
    },
    {
      "cell_type": "code",
      "source": [
        "Atlanta_Route(1000000)"
      ],
      "metadata": {
        "colab": {
          "base_uri": "https://localhost:8080/"
        },
        "id": "ad4HMisWUVXu",
        "outputId": "205a7780-9080-4c2d-9f1f-257f88c99d45"
      },
      "execution_count": 30,
      "outputs": [
        {
          "output_type": "stream",
          "name": "stdout",
          "text": [
            "Expected distance through Atlanta: 1961.96007 miles\n"
          ]
        }
      ]
    },
    {
      "cell_type": "code",
      "source": [
        "def Nashville_Route(n):\n",
        "  NY_to_Nash = 900\n",
        "\n",
        "  Nash_to_StL = 309\n",
        "  StL_to_Dallas = 662\n",
        "\n",
        "  Nash_to_NO = 532\n",
        "  NO_to_Dallas = 505\n",
        "\n",
        "  total_distance = 0 # starting distance\n",
        "\n",
        "  for i in range(n):\n",
        "    \n",
        "    road_blocked = random.randint(1,2) # determines which route out of Atlanta will be blocked\n",
        "    \n",
        "    # if == 1, the route from Nashville to St Louis is blocked, so use route to New Orleans\n",
        "    if road_blocked == 1: \n",
        "      total_distance += NY_to_Nash + Nash_to_NO + NO_to_Dallas\n",
        "\n",
        "    # otherwise route to New Orleans is blocked, so use route to St Louis\n",
        "    else:\n",
        "      total_distance += NY_to_Nash + Nash_to_StL + StL_to_Dallas\n",
        "  \n",
        "  print(f'Expected distance through Nashville: {total_distance/n} miles')"
      ],
      "metadata": {
        "id": "lJ4--BTxHsvS"
      },
      "execution_count": 27,
      "outputs": []
    },
    {
      "cell_type": "code",
      "source": [
        "Nashville_Route(1000000)"
      ],
      "metadata": {
        "colab": {
          "base_uri": "https://localhost:8080/"
        },
        "id": "DLxZTrh_YcY6",
        "outputId": "b1a4a925-dc48-4bcf-dfd0-bf1dfcb1da8b"
      },
      "execution_count": 28,
      "outputs": [
        {
          "output_type": "stream",
          "name": "stdout",
          "text": [
            "Expected distance through Nashville: 1903.944692 miles\n"
          ]
        }
      ]
    },
    {
      "cell_type": "markdown",
      "source": [
        "### Answer: Max should start toward Nashville because the **expected distance through Nashville (~1904 miles)** is <font color='red'>**less than**</font> the **expected distance through Atlanta (~1962 miles).**"
      ],
      "metadata": {
        "id": "Nu5boCpLY479"
      }
    },
    {
      "cell_type": "code",
      "source": [],
      "metadata": {
        "id": "ciBoDmLbZGM8"
      },
      "execution_count": null,
      "outputs": []
    }
  ]
}